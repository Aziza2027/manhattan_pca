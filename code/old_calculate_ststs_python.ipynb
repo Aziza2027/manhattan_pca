{
 "cells": [
  {
   "cell_type": "code",
   "execution_count": 1,
   "metadata": {},
   "outputs": [],
   "source": [
    "import pandas as pd\n",
    "import numpy as np\n",
    "\n",
    "from functions import calculate_OR, calculate_P\n",
    "\n"
   ]
  },
  {
   "cell_type": "code",
   "execution_count": 2,
   "metadata": {},
   "outputs": [],
   "source": [
    "\n",
    "# Load dataset\n",
    "data = pd.read_csv('../data/join_filled.csv')\n",
    "\n",
    "x = data['ГГ'].copy()\n",
    "y = data.iloc[:,114:].copy()\n",
    "\n",
    "data = pd.concat([x, y], axis=1)\n",
    "data = data.rename(columns={'ГГ': 'case'})\n",
    "data['case'] = (data['case'] >= data['case'].mean()).astype(int)"
   ]
  },
  {
   "cell_type": "code",
   "execution_count": 3,
   "metadata": {},
   "outputs": [],
   "source": [
    "\n",
    "# list of columns for which to calculate odds ratio\n",
    "genotype_cols = [col for col in data.columns if col != 'case']"
   ]
  },
  {
   "cell_type": "code",
   "execution_count": 4,
   "metadata": {},
   "outputs": [],
   "source": [
    "\n",
    "all_values = {}\n",
    "# loop over genotype columns\n",
    "for col in genotype_cols:\n",
    "    # split into case and control groups\n",
    "    case_group = data[data['case'] == 1][col]\n",
    "    control_group = data[data['case'] == 0][col]\n",
    "\n",
    "    # extract wild type and mutant type from column name\n",
    "\n",
    "    w, m = col[-3:].split('>')\n",
    "    wild, heterozygous, mutant = w+w, w+m, m+m\n",
    "\n",
    "    # calculate odds ratio and confidence interval for dominant model\n",
    "    dominant = calculate_OR(case_group, control_group, wild, heterozygous, mutant, model='dominant')\n",
    "    recessive = calculate_OR(case_group, control_group, wild, heterozygous, mutant, model='recessive')\n",
    "    codominant = calculate_OR(case_group, control_group, wild, heterozygous, mutant, model='codominant')\n",
    "    allele = calculate_OR(case_group, control_group, wild, heterozygous, mutant, model='allele')\n",
    "\n",
    "    p_all, p_gen = calculate_P(data['case'], data[col])\n",
    "\n",
    "    all_values[col] = [\n",
    "        p_all, p_gen,\n",
    "        *allele,\n",
    "        *codominant,\n",
    "        *dominant,\n",
    "        *recessive\n",
    "    ]"
   ]
  },
  {
   "cell_type": "code",
   "execution_count": null,
   "metadata": {},
   "outputs": [],
   "source": [
    "res = pd.DataFrame(all_values).T\n",
    "res.columns = [\n",
    "    'p_value_allele',\n",
    "    'p_value_genotype',\n",
    "    'allele_M', 'allele_M_CI',\n",
    "    'allele_W', 'allele_W_CI',\n",
    "    'general_W', 'general_W_CI',\n",
    "    'general_Ht', 'general_Ht_CI',\n",
    "    'general_M', 'general_M_CI',\n",
    "    'dominant_W', 'dominant_W_CI',\n",
    "    'dominant_Ht_M', 'dominant_Ht_M_CI',\n",
    "    'recessive_W_Ht', 'recessive_W_Ht_CI',\n",
    "    'recessive_M', 'recessive_M_CI',\n",
    "    ]\n",
    "# res.reset_index(inplace=True)\n",
    "# res.rename(columns={'index':'rsid'}, inplace=True)"
   ]
  },
  {
   "cell_type": "markdown",
   "metadata": {},
   "source": []
  },
  {
   "cell_type": "code",
   "execution_count": null,
   "metadata": {},
   "outputs": [],
   "source": [
    "# res.to_csv('./data/stats.csv')"
   ]
  },
  {
   "cell_type": "code",
   "execution_count": null,
   "metadata": {},
   "outputs": [],
   "source": []
  }
 ],
 "metadata": {
  "kernelspec": {
   "display_name": "Python 3",
   "language": "python",
   "name": "python3"
  },
  "language_info": {
   "codemirror_mode": {
    "name": "ipython",
    "version": 3
   },
   "file_extension": ".py",
   "mimetype": "text/x-python",
   "name": "python",
   "nbconvert_exporter": "python",
   "pygments_lexer": "ipython3",
   "version": "3.10.6"
  },
  "orig_nbformat": 4
 },
 "nbformat": 4,
 "nbformat_minor": 2
}
