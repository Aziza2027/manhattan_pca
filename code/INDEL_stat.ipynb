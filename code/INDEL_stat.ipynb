{
 "cells": [
  {
   "cell_type": "code",
   "execution_count": 4,
   "metadata": {},
   "outputs": [],
   "source": [
    "import pandas as pd\n",
    "from scipy.stats import chi2_contingency\n",
    "\n",
    "from functions import CalcPcr\n",
    "\n",
    "f = './data/filled_dropped.csv'\n",
    "out = './data/significant_GENOTYPES.csv'\n",
    "\n",
    "output_file = './data/INDEL_CalcPcr.txt'"
   ]
  },
  {
   "cell_type": "code",
   "execution_count": 5,
   "metadata": {},
   "outputs": [],
   "source": [
    "df = pd.read_csv(out)\n",
    "\n",
    "# df = pd.read_csv(f)\n",
    "# df.columns = ['Status'] + list(df.columns[1:])\n",
    "# df['Status'] = [1 if x.isnumeric() else 0 for x in df.Status]\n",
    "\n",
    "# sig_rs = []\n",
    "# for rs in df.columns[1:]:\n",
    "#     contingency_table = pd.crosstab(df['Status'], df[rs])\n",
    "#     chi2, p, _, _ = chi2_contingency(contingency_table)\n",
    "\n",
    "#     if p < 0.05:\n",
    "#         sig_rs.append(rs)\n",
    "\n",
    "# df = df[['Status'] + sig_rs[1:]]\n",
    "# df.loc[df['rs16851055'] == 'GGACA', 'rs16851055'] = 'GA'\n",
    "# df.to_csv(out, index=False)"
   ]
  },
  {
   "cell_type": "code",
   "execution_count": 7,
   "metadata": {},
   "outputs": [],
   "source": [
    "cls = CalcPcr()\n",
    "res = cls.calc_stats(df, encode=True)\n",
    "# with open(output_file, 'w') as f:\n",
    "#     f.write(res)"
   ]
  },
  {
   "cell_type": "code",
   "execution_count": 10,
   "metadata": {},
   "outputs": [],
   "source": [
    "cls.df.to_excel('./data/significant_GENOTYPES_encoded.xlsx', encoding='openxl', index=False)"
   ]
  },
  {
   "cell_type": "code",
   "execution_count": null,
   "metadata": {},
   "outputs": [],
   "source": []
  },
  {
   "cell_type": "code",
   "execution_count": null,
   "metadata": {},
   "outputs": [],
   "source": []
  }
 ],
 "metadata": {
  "kernelspec": {
   "display_name": "Python 3",
   "language": "python",
   "name": "python3"
  },
  "language_info": {
   "codemirror_mode": {
    "name": "ipython",
    "version": 3
   },
   "file_extension": ".py",
   "mimetype": "text/x-python",
   "name": "python",
   "nbconvert_exporter": "python",
   "pygments_lexer": "ipython3",
   "version": "3.10.12"
  },
  "orig_nbformat": 4
 },
 "nbformat": 4,
 "nbformat_minor": 2
}
