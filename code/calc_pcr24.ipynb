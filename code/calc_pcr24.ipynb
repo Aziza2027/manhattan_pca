{
 "cells": [
  {
   "cell_type": "code",
   "execution_count": 112,
   "metadata": {},
   "outputs": [],
   "source": [
    "from selenium import webdriver\n",
    "from selenium.webdriver.common.keys import Keys\n",
    "\n",
    "import pandas as pd\n",
    "\n",
    "import sys"
   ]
  },
  {
   "cell_type": "code",
   "execution_count": 113,
   "metadata": {},
   "outputs": [],
   "source": [
    "output_file = \"./data/confidence_calc24.txt\"\n",
    "\n",
    "# data_p = '/home/bio/projects/manhattan_pca/code/data/for Aziza.xlsx'\n",
    "# p_val = None\n",
    "\n",
    "data_p = '/home/bio/projects/manhattan_pca/code/data/data_Ali.xlsx'\n",
    "p_val = '/home/bio/projects/manhattan_pca/code/data/R_stat_p.csv'\n",
    "\n",
    "\n",
    "df = pd.read_excel(data_p)"
   ]
  },
  {
   "cell_type": "code",
   "execution_count": 114,
   "metadata": {},
   "outputs": [],
   "source": [
    "\n",
    "\n",
    "# Choose the appropriate web driver (e.g., Chrome, Firefox)\n",
    "driver = webdriver.Chrome()  # You need to have the Chrome driver installed\n",
    "\n",
    "# Navigate to the website\n",
    "website_url = \"https://calc.pcr24.ru/index.php\"\n",
    "driver.get(website_url)\n",
    "\n",
    "\n",
    "if p_val:\n",
    "    tmp = pd.read_csv(p_val)\n",
    "    rss = tmp[tmp.codominant<=0.05].iloc[:,0].values\n",
    "else:\n",
    "    rss = df.columns[1:]"
   ]
  },
  {
   "cell_type": "code",
   "execution_count": 115,
   "metadata": {},
   "outputs": [],
   "source": [
    "\n",
    "def get_res(values):\n",
    "    try:\n",
    "        def put(k,v):\n",
    "            # Find and input value A\n",
    "            key = f\"input[name='{k}']\"\n",
    "            input_a = driver.find_element(\"css selector\", key)\n",
    "            input_a.clear()  # Clear any existing value\n",
    "            input_a.send_keys(str(v))\n",
    "\n",
    "        for k, v in values.items():\n",
    "            put(k,v)\n",
    "\n",
    "        calculate_button = driver.find_element(\"css selector\", \"input[name='submit']\")\n",
    "        calculate_button.click()\n",
    "\n",
    "        driver.implicitly_wait(3)  # Wait for up to 10 seconds\n",
    "\n",
    "        # Get the page source after calculations\n",
    "        page_source = driver.page_source\n",
    "        dfs = pd.read_html(page_source)\n",
    "        df_ = []\n",
    "        for i, name in zip([1,2,4,5], ['Allele', 'Codominant', 'Dominant', 'Recessive']):\n",
    "            DF = dfs[i].set_index(dfs[i].columns[0])\n",
    "            DF.columns = DF.iloc[0]\n",
    "            DF = DF[1:]\n",
    "            df_.append(name + '\\n-----------------\\n' +DF.to_string(col_space=10))\n",
    "\n",
    "        return '\\n\\n'.join(df_)\n",
    "\n",
    "    except Exception as e:\n",
    "        print(\"An error occurred:\", str(e))\n",
    "\n",
    "\n"
   ]
  },
  {
   "cell_type": "code",
   "execution_count": 116,
   "metadata": {},
   "outputs": [],
   "source": [
    "def get_stats(d):\n",
    "\n",
    "    if len(set(list(d.index[0]))) > 1:\n",
    "        my_list = list(d.index)\n",
    "        my_list[0], my_list[1] = my_list[1], my_list[0]\n",
    "        d = d.loc[my_list, :]\n",
    "\n",
    "    a = d.index.str.cat()\n",
    "    a,b = a[0], a[-1]\n",
    "\n",
    "    try:\n",
    "        sg3 = d.iloc[2,0]\n",
    "        cg3 = d.iloc[2,1]\n",
    "    except:\n",
    "        sg3, cg3 = 0, 0\n",
    "        \n",
    "    if a == b:\n",
    "        print(d)\n",
    "        sys.exit()\n",
    "\n",
    "    values = {\n",
    "        'a1':a, \n",
    "        'a2': b, \n",
    "        'sg1': d.iloc[0,0], \n",
    "        'sg2': d.iloc[1,0], \n",
    "        'sg3': sg3, \n",
    "        'cg1': d.iloc[0,1], \n",
    "        'cg2': d.iloc[1,1], \n",
    "        'cg3': cg3}\n",
    "\n",
    "\n",
    "    res = get_res(values)\n",
    "    return res\n",
    "\n",
    "results = ''\n",
    "for rs in rss:\n",
    "    \n",
    "    res = df.pivot_table(index=rs, columns='Status', aggfunc='size', fill_value=0)\n",
    "    res = rs + '\\n' + get_stats(res) + '\\n\\n============================================================\\n\\n'\n",
    "    results += res\n",
    "\n"
   ]
  },
  {
   "cell_type": "code",
   "execution_count": 117,
   "metadata": {},
   "outputs": [],
   "source": [
    "# results\n",
    "# Close the browser\n",
    "driver.quit()\n",
    "with open(output_file, 'w') as f:\n",
    "    f.write(results)"
   ]
  },
  {
   "cell_type": "code",
   "execution_count": 68,
   "metadata": {},
   "outputs": [],
   "source": []
  },
  {
   "cell_type": "code",
   "execution_count": 69,
   "metadata": {},
   "outputs": [],
   "source": []
  },
  {
   "cell_type": "code",
   "execution_count": 70,
   "metadata": {},
   "outputs": [],
   "source": [
    "# print(res[0].to_markdown()) "
   ]
  },
  {
   "cell_type": "code",
   "execution_count": 71,
   "metadata": {},
   "outputs": [],
   "source": [
    "# print(res[0].to_string(col_space=10)) "
   ]
  },
  {
   "cell_type": "code",
   "execution_count": 72,
   "metadata": {},
   "outputs": [
    {
     "ename": "AttributeError",
     "evalue": "'str' object has no attribute 'to_string'",
     "output_type": "error",
     "traceback": [
      "\u001b[0;31m---------------------------------------------------------------------------\u001b[0m",
      "\u001b[0;31mAttributeError\u001b[0m                            Traceback (most recent call last)",
      "\u001b[1;32m/home/bio/projects/manhattan_pca/code/calc_pcr24.ipynb Cell 11\u001b[0m line \u001b[0;36m1\n\u001b[0;32m----> <a href='vscode-notebook-cell:/home/bio/projects/manhattan_pca/code/calc_pcr24.ipynb#X11sZmlsZQ%3D%3D?line=0'>1</a>\u001b[0m \u001b[39mprint\u001b[39m(res[\u001b[39m0\u001b[39;49m]\u001b[39m.\u001b[39;49mto_string(index\u001b[39m=\u001b[39m\u001b[39mFalse\u001b[39;00m, header\u001b[39m=\u001b[39m\u001b[39mFalse\u001b[39;00m))\n",
      "\u001b[0;31mAttributeError\u001b[0m: 'str' object has no attribute 'to_string'"
     ]
    }
   ],
   "source": [
    "print(res[0].to_string(index=False, header=False))"
   ]
  },
  {
   "cell_type": "code",
   "execution_count": null,
   "metadata": {},
   "outputs": [],
   "source": []
  }
 ],
 "metadata": {
  "kernelspec": {
   "display_name": "Python 3",
   "language": "python",
   "name": "python3"
  },
  "language_info": {
   "codemirror_mode": {
    "name": "ipython",
    "version": 3
   },
   "file_extension": ".py",
   "mimetype": "text/x-python",
   "name": "python",
   "nbconvert_exporter": "python",
   "pygments_lexer": "ipython3",
   "version": "3.10.12"
  },
  "orig_nbformat": 4
 },
 "nbformat": 4,
 "nbformat_minor": 2
}
