{
 "cells": [
  {
   "cell_type": "code",
   "execution_count": 183,
   "metadata": {},
   "outputs": [],
   "source": [
    "from selenium import webdriver\n",
    "from selenium.webdriver.common.keys import Keys\n",
    "\n",
    "import pandas as pd"
   ]
  },
  {
   "cell_type": "code",
   "execution_count": 184,
   "metadata": {},
   "outputs": [],
   "source": [
    "# Choose the appropriate web driver (e.g., Chrome, Firefox)\n",
    "driver = webdriver.Chrome()  # You need to have the Chrome driver installed\n",
    "\n",
    "# Navigate to the website\n",
    "website_url = \"https://calc.pcr24.ru/index.php\"\n",
    "driver.get(website_url)\n",
    "df = pd.read_excel('/home/bio/projects/manhattan_pca/code/data/data_Ali.xlsx')\n",
    "tmp = pd.read_csv('/home/bio/projects/manhattan_pca/code/data/R_stat_p.csv')\n",
    "rss = tmp[tmp.codominant<=0.05].iloc[:,0].values"
   ]
  },
  {
   "cell_type": "code",
   "execution_count": 178,
   "metadata": {},
   "outputs": [],
   "source": [
    "\n",
    "def get_res(values):\n",
    "    try:\n",
    "        def put(k,v):\n",
    "            # Find and input value A\n",
    "            key = f\"input[name='{k}']\"\n",
    "            input_a = driver.find_element(\"css selector\", key)\n",
    "            input_a.clear()  # Clear any existing value\n",
    "            input_a.send_keys(str(v))\n",
    "\n",
    "        for k, v in values.items():\n",
    "            put(k,v)\n",
    "\n",
    "        calculate_button = driver.find_element(\"css selector\", \"input[name='submit']\")\n",
    "        calculate_button.click()\n",
    "\n",
    "        driver.implicitly_wait(3)  # Wait for up to 10 seconds\n",
    "\n",
    "        # Get the page source after calculations\n",
    "        page_source = driver.page_source\n",
    "        dfs = pd.read_html(page_source)\n",
    "        df_ = []\n",
    "        for i, name in zip([1,2,4,5], ['Allele', 'Codominant', 'Dominant', 'Recessive']):\n",
    "            DF = dfs[i].set_index(dfs[i].columns[0])\n",
    "            DF.columns = DF.iloc[0]\n",
    "            DF = DF[1:]\n",
    "            df_.append(name + '\\n-----------------\\n' +DF.to_string(col_space=10))\n",
    "\n",
    "        return '\\n\\n'.join(df_)\n",
    "\n",
    "    except Exception as e:\n",
    "        print(\"An error occurred:\", str(e))\n",
    "\n",
    "\n"
   ]
  },
  {
   "cell_type": "code",
   "execution_count": 185,
   "metadata": {},
   "outputs": [],
   "source": [
    "def get_stats(d):\n",
    "    a = d.index.str.cat()\n",
    "    a,b = a[0], a[-1]\n",
    "\n",
    "\n",
    "    values = {\n",
    "        'a1':a, \n",
    "        'a2': b, \n",
    "        'sg1': d.iloc[0,0], \n",
    "        'sg2': d.iloc[1,0], \n",
    "        'sg3': d.iloc[2,0], \n",
    "        'cg1': d.iloc[0,1], \n",
    "        'cg2': d.iloc[1,1], \n",
    "        'cg3': d.iloc[2,1]}\n",
    "\n",
    "\n",
    "    res = get_res(values)\n",
    "    return res\n",
    "\n",
    "results = ''\n",
    "for rs in rss:\n",
    "    \n",
    "    res = df.pivot_table(index=rs, columns='Status', aggfunc='size', fill_value=0)\n",
    "    res = rs + '\\n' + get_stats(res) + '\\n\\n============================================================\\n\\n'\n",
    "    results += res\n",
    "    "
   ]
  },
  {
   "cell_type": "code",
   "execution_count": 186,
   "metadata": {},
   "outputs": [],
   "source": [
    "# Close the browser\n",
    "driver.quit()"
   ]
  },
  {
   "cell_type": "code",
   "execution_count": 188,
   "metadata": {},
   "outputs": [],
   "source": [
    "with open(\"./data/confidence_calc24.txt\", 'w') as f:\n",
    "    f.write(results)"
   ]
  },
  {
   "cell_type": "code",
   "execution_count": 144,
   "metadata": {},
   "outputs": [
    {
     "name": "stdout",
     "output_type": "stream",
     "text": [
      "| 0        | Случаи   | Контроли   | χ2    | p      | OR    | OR          |\n",
      "|:---------|:---------|:-----------|:------|:-------|:------|:------------|\n",
      "| Аллели   | n = 126  | n = 40     | χ2    | p      | знач. | 95% CI      |\n",
      "| Аллель A | 0.464    | 0.750      | 19.92 | 8.0E-6 | 0.29  | 0.16 – 0.51 |\n",
      "| Аллель T | 0.536    | 0.250      | 19.92 | 8.0E-6 | 3.46  | 1.97 – 6.08 |\n"
     ]
    }
   ],
   "source": [
    "# print(res[0].to_markdown()) "
   ]
  },
  {
   "cell_type": "code",
   "execution_count": 154,
   "metadata": {},
   "outputs": [
    {
     "name": "stdout",
     "output_type": "stream",
     "text": [
      "Аллели         Случаи   Контроли         χ2          p         OR           OR\n",
      "0                                                                             \n",
      "Аллели        n = 126     n = 40         χ2          p      знач.       95% CI\n",
      "Аллель A        0.464      0.750      19.92     8.0E-6       0.29  0.16 – 0.51\n",
      "Аллель T        0.536      0.250      19.92     8.0E-6       3.46  1.97 – 6.08\n"
     ]
    }
   ],
   "source": [
    "# print(res[0].to_string(col_space=10)) "
   ]
  },
  {
   "cell_type": "code",
   "execution_count": 70,
   "metadata": {},
   "outputs": [
    {
     "name": "stdout",
     "output_type": "stream",
     "text": [
      "  Аллели  Случаи Контроли    χ2      p    OR          OR\n",
      "  Аллели n = 126   n = 40    χ2      p знач.      95% CI\n",
      "Аллель A   0.464    0.750 19.92 8.0E-6  0.29 0.16 – 0.51\n",
      "Аллель T   0.536    0.250 19.92 8.0E-6  3.46 1.97 – 6.08\n"
     ]
    }
   ],
   "source": [
    "print(res[0].to_string(index=False, header=False))"
   ]
  },
  {
   "cell_type": "code",
   "execution_count": null,
   "metadata": {},
   "outputs": [],
   "source": []
  }
 ],
 "metadata": {
  "kernelspec": {
   "display_name": "Python 3",
   "language": "python",
   "name": "python3"
  },
  "language_info": {
   "codemirror_mode": {
    "name": "ipython",
    "version": 3
   },
   "file_extension": ".py",
   "mimetype": "text/x-python",
   "name": "python",
   "nbconvert_exporter": "python",
   "pygments_lexer": "ipython3",
   "version": "3.10.12"
  },
  "orig_nbformat": 4
 },
 "nbformat": 4,
 "nbformat_minor": 2
}
